{
 "cells": [
  {
   "cell_type": "markdown",
   "id": "9535dd5c",
   "metadata": {},
   "source": [
    "# 3. Build a K-Nearest neighbours’ model for the given dataset and find the best value of K."
   ]
  },
  {
   "cell_type": "code",
   "execution_count": 1,
   "id": "c3c052f2",
   "metadata": {},
   "outputs": [],
   "source": [
    "#importing the required libraries\n",
    "import pandas as pd\n",
    "import numpy as np\n",
    "import matplotlib.pyplot as plt"
   ]
  },
  {
   "cell_type": "code",
   "execution_count": 2,
   "id": "638bf353",
   "metadata": {
    "scrolled": true
   },
   "outputs": [
    {
     "data": {
      "text/html": [
       "<div>\n",
       "<style scoped>\n",
       "    .dataframe tbody tr th:only-of-type {\n",
       "        vertical-align: middle;\n",
       "    }\n",
       "\n",
       "    .dataframe tbody tr th {\n",
       "        vertical-align: top;\n",
       "    }\n",
       "\n",
       "    .dataframe thead th {\n",
       "        text-align: right;\n",
       "    }\n",
       "</style>\n",
       "<table border=\"1\" class=\"dataframe\">\n",
       "  <thead>\n",
       "    <tr style=\"text-align: right;\">\n",
       "      <th></th>\n",
       "      <th>id</th>\n",
       "      <th>vendor_id</th>\n",
       "      <th>pickup_datetime</th>\n",
       "      <th>dropoff_datetime</th>\n",
       "      <th>passenger_count</th>\n",
       "      <th>pickup_longitude</th>\n",
       "      <th>pickup_latitude</th>\n",
       "      <th>dropoff_longitude</th>\n",
       "      <th>dropoff_latitude</th>\n",
       "      <th>store_and_fwd_flag</th>\n",
       "      <th>trip_duration</th>\n",
       "    </tr>\n",
       "  </thead>\n",
       "  <tbody>\n",
       "    <tr>\n",
       "      <th>0</th>\n",
       "      <td>id1080784</td>\n",
       "      <td>2</td>\n",
       "      <td>2016-02-29 16:40:21</td>\n",
       "      <td>2016-02-29 16:47:01</td>\n",
       "      <td>1</td>\n",
       "      <td>-73.953918</td>\n",
       "      <td>40.778873</td>\n",
       "      <td>-73.963875</td>\n",
       "      <td>40.771164</td>\n",
       "      <td>N</td>\n",
       "      <td>400</td>\n",
       "    </tr>\n",
       "    <tr>\n",
       "      <th>1</th>\n",
       "      <td>id0889885</td>\n",
       "      <td>1</td>\n",
       "      <td>2016-03-11 23:35:37</td>\n",
       "      <td>2016-03-11 23:53:57</td>\n",
       "      <td>2</td>\n",
       "      <td>-73.988312</td>\n",
       "      <td>40.731743</td>\n",
       "      <td>-73.994751</td>\n",
       "      <td>40.694931</td>\n",
       "      <td>N</td>\n",
       "      <td>1100</td>\n",
       "    </tr>\n",
       "    <tr>\n",
       "      <th>2</th>\n",
       "      <td>id0857912</td>\n",
       "      <td>2</td>\n",
       "      <td>2016-02-21 17:59:33</td>\n",
       "      <td>2016-02-21 18:26:48</td>\n",
       "      <td>2</td>\n",
       "      <td>-73.997314</td>\n",
       "      <td>40.721458</td>\n",
       "      <td>-73.948029</td>\n",
       "      <td>40.774918</td>\n",
       "      <td>N</td>\n",
       "      <td>1635</td>\n",
       "    </tr>\n",
       "    <tr>\n",
       "      <th>3</th>\n",
       "      <td>id3744273</td>\n",
       "      <td>2</td>\n",
       "      <td>2016-01-05 09:44:31</td>\n",
       "      <td>2016-01-05 10:03:32</td>\n",
       "      <td>6</td>\n",
       "      <td>-73.961670</td>\n",
       "      <td>40.759720</td>\n",
       "      <td>-73.956779</td>\n",
       "      <td>40.780628</td>\n",
       "      <td>N</td>\n",
       "      <td>1141</td>\n",
       "    </tr>\n",
       "    <tr>\n",
       "      <th>4</th>\n",
       "      <td>id0232939</td>\n",
       "      <td>1</td>\n",
       "      <td>2016-02-17 06:42:23</td>\n",
       "      <td>2016-02-17 06:56:31</td>\n",
       "      <td>1</td>\n",
       "      <td>-74.017120</td>\n",
       "      <td>40.708469</td>\n",
       "      <td>-73.988182</td>\n",
       "      <td>40.740631</td>\n",
       "      <td>N</td>\n",
       "      <td>848</td>\n",
       "    </tr>\n",
       "  </tbody>\n",
       "</table>\n",
       "</div>"
      ],
      "text/plain": [
       "          id  vendor_id      pickup_datetime     dropoff_datetime  \\\n",
       "0  id1080784          2  2016-02-29 16:40:21  2016-02-29 16:47:01   \n",
       "1  id0889885          1  2016-03-11 23:35:37  2016-03-11 23:53:57   \n",
       "2  id0857912          2  2016-02-21 17:59:33  2016-02-21 18:26:48   \n",
       "3  id3744273          2  2016-01-05 09:44:31  2016-01-05 10:03:32   \n",
       "4  id0232939          1  2016-02-17 06:42:23  2016-02-17 06:56:31   \n",
       "\n",
       "   passenger_count  pickup_longitude  pickup_latitude  dropoff_longitude  \\\n",
       "0                1        -73.953918        40.778873         -73.963875   \n",
       "1                2        -73.988312        40.731743         -73.994751   \n",
       "2                2        -73.997314        40.721458         -73.948029   \n",
       "3                6        -73.961670        40.759720         -73.956779   \n",
       "4                1        -74.017120        40.708469         -73.988182   \n",
       "\n",
       "   dropoff_latitude store_and_fwd_flag  trip_duration  \n",
       "0         40.771164                  N            400  \n",
       "1         40.694931                  N           1100  \n",
       "2         40.774918                  N           1635  \n",
       "3         40.780628                  N           1141  \n",
       "4         40.740631                  N            848  "
      ]
     },
     "execution_count": 2,
     "metadata": {},
     "output_type": "execute_result"
    }
   ],
   "source": [
    "#reading the csv file\n",
    "df = pd.read_csv(\"nyc_taxi_trip_duration.csv\")\n",
    "df.head()"
   ]
  },
  {
   "cell_type": "code",
   "execution_count": 94,
   "id": "c2bbf23e",
   "metadata": {},
   "outputs": [],
   "source": [
    "# removing the outlier"
   ]
  },
  {
   "cell_type": "code",
   "execution_count": 19,
   "id": "44133477",
   "metadata": {},
   "outputs": [
    {
     "data": {
      "text/plain": [
       "1    517415\n",
       "2    105097\n",
       "5     38926\n",
       "3     29692\n",
       "6     24107\n",
       "4     14050\n",
       "Name: passenger_count, dtype: int64"
      ]
     },
     "execution_count": 19,
     "metadata": {},
     "output_type": "execute_result"
    }
   ],
   "source": [
    "df[\"passenger_count\"].value_counts()"
   ]
  },
  {
   "cell_type": "code",
   "execution_count": 20,
   "id": "231afebf",
   "metadata": {},
   "outputs": [],
   "source": [
    "df = df.loc[~(df['passenger_count'] == 0)]\n",
    "df = df.loc[~(df['passenger_count'] == 7)]\n",
    "df = df.loc[~(df['passenger_count'] == 9)]\n"
   ]
  },
  {
   "cell_type": "code",
   "execution_count": 21,
   "id": "aeaa7886",
   "metadata": {},
   "outputs": [],
   "source": [
    "df['trip_duration_hour'] = df['trip_duration'].apply(lambda x: x/3600)\n",
    "df.drop(columns=['trip_duration'], inplace=True)"
   ]
  },
  {
   "cell_type": "code",
   "execution_count": 22,
   "id": "91dedae2",
   "metadata": {},
   "outputs": [
    {
     "data": {
      "text/plain": [
       "id                     object\n",
       "vendor_id               int64\n",
       "pickup_datetime        object\n",
       "dropoff_datetime       object\n",
       "passenger_count         int64\n",
       "pickup_longitude      float64\n",
       "pickup_latitude       float64\n",
       "dropoff_longitude     float64\n",
       "dropoff_latitude      float64\n",
       "store_and_fwd_flag     object\n",
       "trip_duration_hour    float64\n",
       "dtype: object"
      ]
     },
     "execution_count": 22,
     "metadata": {},
     "output_type": "execute_result"
    }
   ],
   "source": [
    "df.dtypes"
   ]
  },
  {
   "cell_type": "markdown",
   "id": "c6501fee",
   "metadata": {},
   "source": [
    "# K - NEAREST NEIGHBOURS MODEL"
   ]
  },
  {
   "cell_type": "code",
   "execution_count": 23,
   "id": "9416c7f1",
   "metadata": {},
   "outputs": [],
   "source": [
    "custom_df = df.sample(100000)"
   ]
  },
  {
   "cell_type": "code",
   "execution_count": 24,
   "id": "1d208cdf",
   "metadata": {},
   "outputs": [],
   "source": [
    "sample_df = custom_df "
   ]
  },
  {
   "cell_type": "code",
   "execution_count": 25,
   "id": "262e4d63",
   "metadata": {},
   "outputs": [],
   "source": [
    "#seperate features and target\n",
    "features = sample_df.drop([\"id\",\"vendor_id\",\"trip_duration_hour\",\"pickup_datetime\",\"dropoff_datetime\",\"store_and_fwd_flag\"],axis = 1)\n",
    "target = sample_df[\"trip_duration_hour\"]"
   ]
  },
  {
   "cell_type": "code",
   "execution_count": 26,
   "id": "8ca91efb",
   "metadata": {},
   "outputs": [
    {
     "data": {
      "text/plain": [
       "id                     object\n",
       "vendor_id               int64\n",
       "pickup_datetime        object\n",
       "dropoff_datetime       object\n",
       "passenger_count         int64\n",
       "pickup_longitude      float64\n",
       "pickup_latitude       float64\n",
       "dropoff_longitude     float64\n",
       "dropoff_latitude      float64\n",
       "store_and_fwd_flag     object\n",
       "trip_duration_hour    float64\n",
       "dtype: object"
      ]
     },
     "execution_count": 26,
     "metadata": {},
     "output_type": "execute_result"
    }
   ],
   "source": [
    "sample_df.dtypes"
   ]
  },
  {
   "cell_type": "code",
   "execution_count": 27,
   "id": "ac0b424b",
   "metadata": {},
   "outputs": [
    {
     "data": {
      "text/plain": [
       "1    70711\n",
       "2    14534\n",
       "5     5415\n",
       "3     4039\n",
       "6     3417\n",
       "4     1884\n",
       "Name: passenger_count, dtype: int64"
      ]
     },
     "execution_count": 27,
     "metadata": {},
     "output_type": "execute_result"
    }
   ],
   "source": [
    "#converting the store and fwd flag to int type\n",
    "sample_df[\"passenger_count\"].value_counts()"
   ]
  },
  {
   "cell_type": "code",
   "execution_count": 28,
   "id": "22acffce",
   "metadata": {},
   "outputs": [
    {
     "data": {
      "text/html": [
       "<div>\n",
       "<style scoped>\n",
       "    .dataframe tbody tr th:only-of-type {\n",
       "        vertical-align: middle;\n",
       "    }\n",
       "\n",
       "    .dataframe tbody tr th {\n",
       "        vertical-align: top;\n",
       "    }\n",
       "\n",
       "    .dataframe thead th {\n",
       "        text-align: right;\n",
       "    }\n",
       "</style>\n",
       "<table border=\"1\" class=\"dataframe\">\n",
       "  <thead>\n",
       "    <tr style=\"text-align: right;\">\n",
       "      <th></th>\n",
       "      <th>pickup_longitude</th>\n",
       "      <th>pickup_latitude</th>\n",
       "      <th>dropoff_longitude</th>\n",
       "      <th>dropoff_latitude</th>\n",
       "      <th>passenger_count_1</th>\n",
       "      <th>passenger_count_2</th>\n",
       "      <th>passenger_count_3</th>\n",
       "      <th>passenger_count_4</th>\n",
       "      <th>passenger_count_5</th>\n",
       "      <th>passenger_count_6</th>\n",
       "    </tr>\n",
       "  </thead>\n",
       "  <tbody>\n",
       "    <tr>\n",
       "      <th>169719</th>\n",
       "      <td>-73.953377</td>\n",
       "      <td>40.785610</td>\n",
       "      <td>-73.960793</td>\n",
       "      <td>40.777550</td>\n",
       "      <td>0</td>\n",
       "      <td>0</td>\n",
       "      <td>1</td>\n",
       "      <td>0</td>\n",
       "      <td>0</td>\n",
       "      <td>0</td>\n",
       "    </tr>\n",
       "    <tr>\n",
       "      <th>272637</th>\n",
       "      <td>-73.989151</td>\n",
       "      <td>40.769291</td>\n",
       "      <td>-73.966148</td>\n",
       "      <td>40.770828</td>\n",
       "      <td>1</td>\n",
       "      <td>0</td>\n",
       "      <td>0</td>\n",
       "      <td>0</td>\n",
       "      <td>0</td>\n",
       "      <td>0</td>\n",
       "    </tr>\n",
       "    <tr>\n",
       "      <th>66172</th>\n",
       "      <td>-73.975731</td>\n",
       "      <td>40.744968</td>\n",
       "      <td>-73.995148</td>\n",
       "      <td>40.737518</td>\n",
       "      <td>0</td>\n",
       "      <td>0</td>\n",
       "      <td>0</td>\n",
       "      <td>0</td>\n",
       "      <td>1</td>\n",
       "      <td>0</td>\n",
       "    </tr>\n",
       "    <tr>\n",
       "      <th>470213</th>\n",
       "      <td>-73.975845</td>\n",
       "      <td>40.683399</td>\n",
       "      <td>-73.870796</td>\n",
       "      <td>40.728256</td>\n",
       "      <td>1</td>\n",
       "      <td>0</td>\n",
       "      <td>0</td>\n",
       "      <td>0</td>\n",
       "      <td>0</td>\n",
       "      <td>0</td>\n",
       "    </tr>\n",
       "    <tr>\n",
       "      <th>319715</th>\n",
       "      <td>-73.973320</td>\n",
       "      <td>40.754269</td>\n",
       "      <td>-74.004005</td>\n",
       "      <td>40.725674</td>\n",
       "      <td>1</td>\n",
       "      <td>0</td>\n",
       "      <td>0</td>\n",
       "      <td>0</td>\n",
       "      <td>0</td>\n",
       "      <td>0</td>\n",
       "    </tr>\n",
       "  </tbody>\n",
       "</table>\n",
       "</div>"
      ],
      "text/plain": [
       "        pickup_longitude  pickup_latitude  dropoff_longitude  \\\n",
       "169719        -73.953377        40.785610         -73.960793   \n",
       "272637        -73.989151        40.769291         -73.966148   \n",
       "66172         -73.975731        40.744968         -73.995148   \n",
       "470213        -73.975845        40.683399         -73.870796   \n",
       "319715        -73.973320        40.754269         -74.004005   \n",
       "\n",
       "        dropoff_latitude  passenger_count_1  passenger_count_2  \\\n",
       "169719         40.777550                  0                  0   \n",
       "272637         40.770828                  1                  0   \n",
       "66172          40.737518                  0                  0   \n",
       "470213         40.728256                  1                  0   \n",
       "319715         40.725674                  1                  0   \n",
       "\n",
       "        passenger_count_3  passenger_count_4  passenger_count_5  \\\n",
       "169719                  1                  0                  0   \n",
       "272637                  0                  0                  0   \n",
       "66172                   0                  0                  1   \n",
       "470213                  0                  0                  0   \n",
       "319715                  0                  0                  0   \n",
       "\n",
       "        passenger_count_6  \n",
       "169719                  0  \n",
       "272637                  0  \n",
       "66172                   0  \n",
       "470213                  0  \n",
       "319715                  0  "
      ]
     },
     "execution_count": 28,
     "metadata": {},
     "output_type": "execute_result"
    }
   ],
   "source": [
    "df1 = pd.concat([sample_df, pd.get_dummies(sample_df[['passenger_count']].astype('str'))], axis=1)\n",
    "try:\n",
    "    df1.drop(['id','vendor_id','trip_duration_hour','pickup_datetime','dropoff_datetime','store_and_fwd_flag','passenger_count'], axis=1, inplace=True)\n",
    "except KeyError:\n",
    "    pass\n",
    "\n",
    "df1.head()"
   ]
  },
  {
   "cell_type": "code",
   "execution_count": 29,
   "id": "107a909b",
   "metadata": {},
   "outputs": [
    {
     "data": {
      "text/plain": [
       "((100000, 10), (100000,))"
      ]
     },
     "execution_count": 29,
     "metadata": {},
     "output_type": "execute_result"
    }
   ],
   "source": [
    "#seperate features and target\n",
    "x = df1\n",
    "y = sample_df[\"trip_duration_hour\"]\n",
    "x.shape,y.shape"
   ]
  },
  {
   "cell_type": "code",
   "execution_count": 30,
   "id": "ab650270",
   "metadata": {},
   "outputs": [],
   "source": [
    "#scaling the data(using MinMax Scaler)\n",
    "from sklearn.preprocessing import MinMaxScaler\n",
    "scaler = MinMaxScaler()\n",
    "x_scaled = scaler.fit_transform(x)\n"
   ]
  },
  {
   "cell_type": "code",
   "execution_count": 31,
   "id": "918ff939",
   "metadata": {},
   "outputs": [
    {
     "data": {
      "text/html": [
       "<div>\n",
       "<style scoped>\n",
       "    .dataframe tbody tr th:only-of-type {\n",
       "        vertical-align: middle;\n",
       "    }\n",
       "\n",
       "    .dataframe tbody tr th {\n",
       "        vertical-align: top;\n",
       "    }\n",
       "\n",
       "    .dataframe thead th {\n",
       "        text-align: right;\n",
       "    }\n",
       "</style>\n",
       "<table border=\"1\" class=\"dataframe\">\n",
       "  <thead>\n",
       "    <tr style=\"text-align: right;\">\n",
       "      <th></th>\n",
       "      <th>pickup_longitude</th>\n",
       "      <th>pickup_latitude</th>\n",
       "      <th>dropoff_longitude</th>\n",
       "      <th>dropoff_latitude</th>\n",
       "      <th>passenger_count_1</th>\n",
       "      <th>passenger_count_2</th>\n",
       "      <th>passenger_count_3</th>\n",
       "      <th>passenger_count_4</th>\n",
       "      <th>passenger_count_5</th>\n",
       "      <th>passenger_count_6</th>\n",
       "    </tr>\n",
       "  </thead>\n",
       "  <tbody>\n",
       "    <tr>\n",
       "      <th>0</th>\n",
       "      <td>0.075624</td>\n",
       "      <td>0.738037</td>\n",
       "      <td>0.271325</td>\n",
       "      <td>0.792571</td>\n",
       "      <td>0.0</td>\n",
       "      <td>0.0</td>\n",
       "      <td>1.0</td>\n",
       "      <td>0.0</td>\n",
       "      <td>0.0</td>\n",
       "      <td>0.0</td>\n",
       "    </tr>\n",
       "    <tr>\n",
       "      <th>1</th>\n",
       "      <td>0.071519</td>\n",
       "      <td>0.728966</td>\n",
       "      <td>0.270841</td>\n",
       "      <td>0.789662</td>\n",
       "      <td>1.0</td>\n",
       "      <td>0.0</td>\n",
       "      <td>0.0</td>\n",
       "      <td>0.0</td>\n",
       "      <td>0.0</td>\n",
       "      <td>0.0</td>\n",
       "    </tr>\n",
       "    <tr>\n",
       "      <th>2</th>\n",
       "      <td>0.073059</td>\n",
       "      <td>0.715446</td>\n",
       "      <td>0.268221</td>\n",
       "      <td>0.775247</td>\n",
       "      <td>0.0</td>\n",
       "      <td>0.0</td>\n",
       "      <td>0.0</td>\n",
       "      <td>0.0</td>\n",
       "      <td>1.0</td>\n",
       "      <td>0.0</td>\n",
       "    </tr>\n",
       "    <tr>\n",
       "      <th>3</th>\n",
       "      <td>0.073046</td>\n",
       "      <td>0.681221</td>\n",
       "      <td>0.279458</td>\n",
       "      <td>0.771239</td>\n",
       "      <td>1.0</td>\n",
       "      <td>0.0</td>\n",
       "      <td>0.0</td>\n",
       "      <td>0.0</td>\n",
       "      <td>0.0</td>\n",
       "      <td>0.0</td>\n",
       "    </tr>\n",
       "    <tr>\n",
       "      <th>4</th>\n",
       "      <td>0.073335</td>\n",
       "      <td>0.720615</td>\n",
       "      <td>0.267420</td>\n",
       "      <td>0.770122</td>\n",
       "      <td>1.0</td>\n",
       "      <td>0.0</td>\n",
       "      <td>0.0</td>\n",
       "      <td>0.0</td>\n",
       "      <td>0.0</td>\n",
       "      <td>0.0</td>\n",
       "    </tr>\n",
       "  </tbody>\n",
       "</table>\n",
       "</div>"
      ],
      "text/plain": [
       "   pickup_longitude  pickup_latitude  dropoff_longitude  dropoff_latitude  \\\n",
       "0          0.075624         0.738037           0.271325          0.792571   \n",
       "1          0.071519         0.728966           0.270841          0.789662   \n",
       "2          0.073059         0.715446           0.268221          0.775247   \n",
       "3          0.073046         0.681221           0.279458          0.771239   \n",
       "4          0.073335         0.720615           0.267420          0.770122   \n",
       "\n",
       "   passenger_count_1  passenger_count_2  passenger_count_3  passenger_count_4  \\\n",
       "0                0.0                0.0                1.0                0.0   \n",
       "1                1.0                0.0                0.0                0.0   \n",
       "2                0.0                0.0                0.0                0.0   \n",
       "3                1.0                0.0                0.0                0.0   \n",
       "4                1.0                0.0                0.0                0.0   \n",
       "\n",
       "   passenger_count_5  passenger_count_6  \n",
       "0                0.0                0.0  \n",
       "1                0.0                0.0  \n",
       "2                1.0                0.0  \n",
       "3                0.0                0.0  \n",
       "4                0.0                0.0  "
      ]
     },
     "execution_count": 31,
     "metadata": {},
     "output_type": "execute_result"
    }
   ],
   "source": [
    "x = pd.DataFrame(x_scaled,columns=x.columns)\n",
    "x.head()"
   ]
  },
  {
   "cell_type": "code",
   "execution_count": 32,
   "id": "65a274b7",
   "metadata": {},
   "outputs": [],
   "source": [
    "#importing the train_test_split from sklearn\n",
    "from sklearn.model_selection import train_test_split\n",
    "train_x,test_x,train_y,test_y = train_test_split(x,y,random_state=56)"
   ]
  },
  {
   "cell_type": "code",
   "execution_count": 33,
   "id": "b38e2975",
   "metadata": {},
   "outputs": [],
   "source": [
    "#importing knn regressor and mse metrics\n",
    "from sklearn.neighbors import KNeighborsRegressor as KNN\n",
    "from sklearn.metrics import mean_squared_error as mse\n",
    "from math import sqrt"
   ]
  },
  {
   "cell_type": "code",
   "execution_count": 34,
   "id": "4ad652d9",
   "metadata": {},
   "outputs": [
    {
     "name": "stdout",
     "output_type": "stream",
     "text": [
      "test rmse  0.8918734839490347\n"
     ]
    }
   ],
   "source": [
    "#creating instance of KNN\n",
    "reg = KNN(n_neighbors = 10)\n",
    "#fitting the model\n",
    "reg.fit(train_x,train_y)\n",
    "#predicting over the train set and calculating F1\n",
    "test_predict = reg.predict(test_x)\n",
    "k= sqrt(mse(test_predict,test_y))\n",
    "print(\"test rmse \", k)"
   ]
  },
  {
   "cell_type": "markdown",
   "id": "7b2d781b",
   "metadata": {},
   "source": [
    "# Finding the value of k using elbow method"
   ]
  },
  {
   "cell_type": "code",
   "execution_count": 35,
   "id": "a0fbc833",
   "metadata": {},
   "outputs": [],
   "source": [
    "#Now lets construct an elbow classifier for picking least error parameter i.e. least value of n_neighbour\n",
    "def elbow(k):\n",
    "    test_rmse=[]\n",
    "    for i in k:\n",
    "        reg = KNN(n_neighbors=i)\n",
    "        reg.fit(train_x,train_y)\n",
    "        tmp = reg.predict(test_x)\n",
    "        tmp = sqrt(mse(tmp,test_y))\n",
    "        test_rmse.append(tmp)\n",
    "        \n",
    "    return test_rmse    "
   ]
  },
  {
   "cell_type": "code",
   "execution_count": 36,
   "id": "ac578d85",
   "metadata": {},
   "outputs": [],
   "source": [
    "k = range(1,50)"
   ]
  },
  {
   "cell_type": "code",
   "execution_count": 37,
   "id": "00452d19",
   "metadata": {},
   "outputs": [],
   "source": [
    "test = elbow(k)"
   ]
  },
  {
   "cell_type": "code",
   "execution_count": 38,
   "id": "5f5665e7",
   "metadata": {},
   "outputs": [
    {
     "data": {
      "text/plain": [
       "Text(0.5, 1.0, 'elbow curve for test')"
      ]
     },
     "execution_count": 38,
     "metadata": {},
     "output_type": "execute_result"
    },
    {
     "data": {
      "image/png": "[encoded data removed]",
      "text/plain": [
       "<Figure size 640x480 with 1 Axes>"
      ]
     },
     "metadata": {},
     "output_type": "display_data"
    }
   ],
   "source": [
    "#plotting the curves\n",
    "plt.plot(k,test)\n",
    "plt.xlabel(\"k neighbors\")\n",
    "plt.ylabel(\"test mean squared error\")\n",
    "plt.title(\"elbow curve for test\")"
   ]
  },
  {
   "cell_type": "code",
   "execution_count": 39,
   "id": "a08760f0",
   "metadata": {},
   "outputs": [
    {
     "name": "stdout",
     "output_type": "stream",
     "text": [
      "test rmse  0.9296939948875651\n"
     ]
    }
   ],
   "source": [
    "#creating instance of KNN\n",
    "reg = KNN(n_neighbors = 5)\n",
    "#fitting the model\n",
    "reg.fit(train_x,train_y)\n",
    "#predicting over the train set and calculating F1\n",
    "test_predict = reg.predict(test_x)\n",
    "k= sqrt(mse(test_predict,test_y))\n",
    "print(\"test rmse \", k)"
   ]
  },
  {
   "cell_type": "markdown",
   "id": "86967387",
   "metadata": {},
   "source": [
    "The best value of k is 10"
   ]
  },
  {
   "cell_type": "code",
   "execution_count": 40,
   "id": "9cca57c7",
   "metadata": {},
   "outputs": [
    {
     "data": {
      "text/plain": [
       "22.451293627095016"
      ]
     },
     "execution_count": 40,
     "metadata": {},
     "output_type": "execute_result"
    }
   ],
   "source": [
    "knn_train_score = reg.score(train_x,train_y)\n",
    "knn_train_score*100"
   ]
  },
  {
   "cell_type": "code",
   "execution_count": 41,
   "id": "e6e2668e",
   "metadata": {},
   "outputs": [
    {
     "data": {
      "text/plain": [
       "-16.42500405010501"
      ]
     },
     "execution_count": 41,
     "metadata": {},
     "output_type": "execute_result"
    }
   ],
   "source": [
    "knn_test_score = reg.score(test_x,test_y)\n",
    "knn_test_score*100"
   ]
  },
  {
   "cell_type": "code",
   "execution_count": 28,
   "id": "7985a847",
   "metadata": {},
   "outputs": [
    {
     "name": "stdout",
     "output_type": "stream",
     "text": [
      "Stored 'knn_test_score' (float64)\n"
     ]
    }
   ],
   "source": [
    "#storing the value of train score which can be further used in other files for plotting the bar graph\n",
    "%store knn_test_score"
   ]
  },
  {
   "cell_type": "code",
   "execution_count": 29,
   "id": "7e0eb371",
   "metadata": {},
   "outputs": [
    {
     "name": "stdout",
     "output_type": "stream",
     "text": [
      "Stored 'knn_train_score' (float64)\n"
     ]
    }
   ],
   "source": [
    "#storing the value of test score which can be further used in other files for plotting the bar graph\n",
    "%store knn_train_score"
   ]
  },
  {
   "cell_type": "markdown",
   "id": "3ef845df",
   "metadata": {},
   "source": [
    "# Conclusions\n",
    "1. The Test RMSE is 0.8585182572256731 when we took the value of k as 10\n",
    "\n",
    "2. We used Elbow method in order to determine the value of k \n",
    "\n",
    "3. On using Elbow method we found that at k = 10 the test RMSE is lesser than the RMSE at K =5 i.e test rmse  0.8719167193459133 when K = 5\n",
    "\n",
    "4. The train score is 22.10648609822118\n",
    "5. The test score is -16.42500405010501 which is not pereferd\n",
    "\n"
   ]
  },
  {
   "cell_type": "code",
   "execution_count": 42,
   "id": "066e9add",
   "metadata": {},
   "outputs": [],
   "source": [
    "custom_df=sample_df"
   ]
  },
  {
   "cell_type": "code",
   "execution_count": 43,
   "id": "f9e2f7cd",
   "metadata": {},
   "outputs": [
    {
     "data": {
      "text/plain": [
       "id                     object\n",
       "vendor_id               int64\n",
       "pickup_datetime        object\n",
       "dropoff_datetime       object\n",
       "passenger_count         int64\n",
       "pickup_longitude      float64\n",
       "pickup_latitude       float64\n",
       "dropoff_longitude     float64\n",
       "dropoff_latitude      float64\n",
       "store_and_fwd_flag     object\n",
       "trip_duration_hour    float64\n",
       "dtype: object"
      ]
     },
     "execution_count": 43,
     "metadata": {},
     "output_type": "execute_result"
    }
   ],
   "source": [
    "sample_df.dtypes"
   ]
  },
  {
   "cell_type": "code",
   "execution_count": 44,
   "id": "7244bcef",
   "metadata": {},
   "outputs": [],
   "source": [
    "#seperate features and target\n",
    "features = sample_df.drop([\"id\",\"vendor_id\",\"trip_duration_hour\",\"pickup_datetime\",\"dropoff_datetime\"],axis = 1)\n",
    "target = sample_df[\"trip_duration_hour\"]"
   ]
  },
  {
   "cell_type": "code",
   "execution_count": 45,
   "id": "b7efc449",
   "metadata": {},
   "outputs": [
    {
     "data": {
      "text/html": [
       "<div>\n",
       "<style scoped>\n",
       "    .dataframe tbody tr th:only-of-type {\n",
       "        vertical-align: middle;\n",
       "    }\n",
       "\n",
       "    .dataframe tbody tr th {\n",
       "        vertical-align: top;\n",
       "    }\n",
       "\n",
       "    .dataframe thead th {\n",
       "        text-align: right;\n",
       "    }\n",
       "</style>\n",
       "<table border=\"1\" class=\"dataframe\">\n",
       "  <thead>\n",
       "    <tr style=\"text-align: right;\">\n",
       "      <th></th>\n",
       "      <th>pickup_longitude</th>\n",
       "      <th>pickup_latitude</th>\n",
       "      <th>dropoff_longitude</th>\n",
       "      <th>dropoff_latitude</th>\n",
       "      <th>passenger_count_1</th>\n",
       "      <th>passenger_count_2</th>\n",
       "      <th>passenger_count_3</th>\n",
       "      <th>passenger_count_4</th>\n",
       "      <th>passenger_count_5</th>\n",
       "      <th>passenger_count_6</th>\n",
       "    </tr>\n",
       "  </thead>\n",
       "  <tbody>\n",
       "    <tr>\n",
       "      <th>169719</th>\n",
       "      <td>-73.953377</td>\n",
       "      <td>40.785610</td>\n",
       "      <td>-73.960793</td>\n",
       "      <td>40.777550</td>\n",
       "      <td>0</td>\n",
       "      <td>0</td>\n",
       "      <td>1</td>\n",
       "      <td>0</td>\n",
       "      <td>0</td>\n",
       "      <td>0</td>\n",
       "    </tr>\n",
       "    <tr>\n",
       "      <th>272637</th>\n",
       "      <td>-73.989151</td>\n",
       "      <td>40.769291</td>\n",
       "      <td>-73.966148</td>\n",
       "      <td>40.770828</td>\n",
       "      <td>1</td>\n",
       "      <td>0</td>\n",
       "      <td>0</td>\n",
       "      <td>0</td>\n",
       "      <td>0</td>\n",
       "      <td>0</td>\n",
       "    </tr>\n",
       "    <tr>\n",
       "      <th>66172</th>\n",
       "      <td>-73.975731</td>\n",
       "      <td>40.744968</td>\n",
       "      <td>-73.995148</td>\n",
       "      <td>40.737518</td>\n",
       "      <td>0</td>\n",
       "      <td>0</td>\n",
       "      <td>0</td>\n",
       "      <td>0</td>\n",
       "      <td>1</td>\n",
       "      <td>0</td>\n",
       "    </tr>\n",
       "    <tr>\n",
       "      <th>470213</th>\n",
       "      <td>-73.975845</td>\n",
       "      <td>40.683399</td>\n",
       "      <td>-73.870796</td>\n",
       "      <td>40.728256</td>\n",
       "      <td>1</td>\n",
       "      <td>0</td>\n",
       "      <td>0</td>\n",
       "      <td>0</td>\n",
       "      <td>0</td>\n",
       "      <td>0</td>\n",
       "    </tr>\n",
       "    <tr>\n",
       "      <th>319715</th>\n",
       "      <td>-73.973320</td>\n",
       "      <td>40.754269</td>\n",
       "      <td>-74.004005</td>\n",
       "      <td>40.725674</td>\n",
       "      <td>1</td>\n",
       "      <td>0</td>\n",
       "      <td>0</td>\n",
       "      <td>0</td>\n",
       "      <td>0</td>\n",
       "      <td>0</td>\n",
       "    </tr>\n",
       "  </tbody>\n",
       "</table>\n",
       "</div>"
      ],
      "text/plain": [
       "        pickup_longitude  pickup_latitude  dropoff_longitude  \\\n",
       "169719        -73.953377        40.785610         -73.960793   \n",
       "272637        -73.989151        40.769291         -73.966148   \n",
       "66172         -73.975731        40.744968         -73.995148   \n",
       "470213        -73.975845        40.683399         -73.870796   \n",
       "319715        -73.973320        40.754269         -74.004005   \n",
       "\n",
       "        dropoff_latitude  passenger_count_1  passenger_count_2  \\\n",
       "169719         40.777550                  0                  0   \n",
       "272637         40.770828                  1                  0   \n",
       "66172          40.737518                  0                  0   \n",
       "470213         40.728256                  1                  0   \n",
       "319715         40.725674                  1                  0   \n",
       "\n",
       "        passenger_count_3  passenger_count_4  passenger_count_5  \\\n",
       "169719                  1                  0                  0   \n",
       "272637                  0                  0                  0   \n",
       "66172                   0                  0                  1   \n",
       "470213                  0                  0                  0   \n",
       "319715                  0                  0                  0   \n",
       "\n",
       "        passenger_count_6  \n",
       "169719                  0  \n",
       "272637                  0  \n",
       "66172                   0  \n",
       "470213                  0  \n",
       "319715                  0  "
      ]
     },
     "execution_count": 45,
     "metadata": {},
     "output_type": "execute_result"
    }
   ],
   "source": [
    "df1 = pd.concat([sample_df, pd.get_dummies(sample_df[['passenger_count']].astype('str'))], axis=1)\n",
    "try:\n",
    "    df1.drop(['id','vendor_id','trip_duration_hour','pickup_datetime','dropoff_datetime','store_and_fwd_flag','passenger_count'], axis=1, inplace=True)\n",
    "except KeyError:\n",
    "    pass\n",
    "\n",
    "df1.head()"
   ]
  },
  {
   "cell_type": "code",
   "execution_count": 46,
   "id": "9b37ebd7",
   "metadata": {},
   "outputs": [
    {
     "data": {
      "text/plain": [
       "(100000, 10)"
      ]
     },
     "execution_count": 46,
     "metadata": {},
     "output_type": "execute_result"
    }
   ],
   "source": [
    "df1.shape"
   ]
  },
  {
   "cell_type": "code",
   "execution_count": 47,
   "id": "4ae937fb",
   "metadata": {},
   "outputs": [
    {
     "data": {
      "text/plain": [
       "((100000, 10), (100000,))"
      ]
     },
     "execution_count": 47,
     "metadata": {},
     "output_type": "execute_result"
    }
   ],
   "source": [
    "#seperate features and target\n",
    "x = df1\n",
    "y = sample_df[\"trip_duration_hour\"]\n",
    "x.shape,y.shape"
   ]
  },
  {
   "cell_type": "code",
   "execution_count": 48,
   "id": "24e93850",
   "metadata": {},
   "outputs": [],
   "source": [
    "from sklearn.model_selection import train_test_split\n",
    "train_x,test_x,train_y,test_y = train_test_split(x,y,random_state=56)"
   ]
  },
  {
   "cell_type": "markdown",
   "id": "9205419e",
   "metadata": {},
   "source": [
    "# 4. Build a Linear model for the given dataset with regularisation. Attempt to interpret the variable coefficients of the Linear Model."
   ]
  },
  {
   "cell_type": "markdown",
   "id": "c6828b55",
   "metadata": {},
   "source": [
    "# Linear Regression model"
   ]
  },
  {
   "cell_type": "markdown",
   "id": "6a878595",
   "metadata": {},
   "source": [
    "Linear regression analysis is used to predict the value of a variable based on the value of another variable. The variable you want to predict is called the dependent variable. The variable you are using to predict the other variable's value is called the independent variable."
   ]
  },
  {
   "cell_type": "code",
   "execution_count": 49,
   "id": "c08e1811",
   "metadata": {},
   "outputs": [],
   "source": [
    "from sklearn.linear_model import LinearRegression as LR\n",
    "from sklearn.metrics import mean_squared_error as mse"
   ]
  },
  {
   "cell_type": "code",
   "execution_count": 50,
   "id": "2dee394b",
   "metadata": {},
   "outputs": [
    {
     "data": {
      "text/plain": [
       "LinearRegression()"
      ]
     },
     "execution_count": 50,
     "metadata": {},
     "output_type": "execute_result"
    }
   ],
   "source": [
    "#creating an instance of LR\n",
    "lr = LR()\n",
    "#fitting the model\n",
    "lr.fit(train_x,train_y)"
   ]
  },
  {
   "cell_type": "code",
   "execution_count": 51,
   "id": "ea7b1585",
   "metadata": {},
   "outputs": [
    {
     "name": "stdout",
     "output_type": "stream",
     "text": [
      "training rmse  0.8800947504220866\n"
     ]
    }
   ],
   "source": [
    "#predicting the train values and finding the RMSE\n",
    "train_predict = lr.predict(train_x)\n",
    "k = sqrt(mse(train_predict,train_y))\n",
    "print(\"training rmse \",k)"
   ]
  },
  {
   "cell_type": "code",
   "execution_count": 52,
   "id": "55e18e04",
   "metadata": {},
   "outputs": [
    {
     "name": "stdout",
     "output_type": "stream",
     "text": [
      "testing rmse  0.8585182572256731\n"
     ]
    }
   ],
   "source": [
    "#predicting the test values and finding the RMSE\n",
    "test_predict = lr.predict(test_x)\n",
    "k = sqrt(mse(test_predict,test_y))\n",
    "print(\"testing rmse \",k)"
   ]
  },
  {
   "cell_type": "code",
   "execution_count": 53,
   "id": "365ce0b0",
   "metadata": {},
   "outputs": [
    {
     "data": {
      "text/plain": [
       "array([ 9.33095495e-01, -8.39614623e-01, -1.48502635e-02, -7.76752665e-01,\n",
       "       -6.72125244e+12, -6.72125244e+12, -6.72125244e+12, -6.72125244e+12,\n",
       "       -6.72125244e+12, -6.72125244e+12])"
      ]
     },
     "execution_count": 53,
     "metadata": {},
     "output_type": "execute_result"
    }
   ],
   "source": [
    "#computing the coefficients of above model\n",
    "lr.coef_"
   ]
  },
  {
   "cell_type": "markdown",
   "id": "8416d6f8",
   "metadata": {},
   "source": [
    "# Plotting the coefficients"
   ]
  },
  {
   "cell_type": "code",
   "execution_count": 54,
   "id": "6d2eb1f3",
   "metadata": {
    "scrolled": true
   },
   "outputs": [
    {
     "data": {
      "text/plain": [
       "Text(0.5, 1.0, 'coefficient plot')"
      ]
     },
     "execution_count": 54,
     "metadata": {},
     "output_type": "execute_result"
    },
    {
     "data": {
      "image/png": "[encoded data removed]",
      "text/plain": [
       "<Figure size 960x720 with 1 Axes>"
      ]
     },
     "metadata": {},
     "output_type": "display_data"
    }
   ],
   "source": [
    "plt.figure(figsize=(8,6),dpi=120,facecolor=\"w\",edgecolor=\"b\")\n",
    "x = range(len(train_x.columns))\n",
    "y = lr.coef_\n",
    "plt.bar(x,y)\n",
    "plt.xlabel(\"variables\")\n",
    "plt.ylabel(\"coefficents\")\n",
    "plt.title(\"coefficient plot\")"
   ]
  },
  {
   "cell_type": "markdown",
   "id": "372639be",
   "metadata": {},
   "source": [
    "Here we can see that the model depends upon some Independent variables too much, But these coefficients are not suitable for interpretation because these are not scaled."
   ]
  },
  {
   "cell_type": "code",
   "execution_count": 55,
   "id": "1c13c71b",
   "metadata": {},
   "outputs": [
    {
     "data": {
      "text/html": [
       "<div>\n",
       "<style scoped>\n",
       "    .dataframe tbody tr th:only-of-type {\n",
       "        vertical-align: middle;\n",
       "    }\n",
       "\n",
       "    .dataframe tbody tr th {\n",
       "        vertical-align: top;\n",
       "    }\n",
       "\n",
       "    .dataframe thead th {\n",
       "        text-align: right;\n",
       "    }\n",
       "</style>\n",
       "<table border=\"1\" class=\"dataframe\">\n",
       "  <thead>\n",
       "    <tr style=\"text-align: right;\">\n",
       "      <th></th>\n",
       "      <th>fitted_values</th>\n",
       "      <th>predicted_values</th>\n",
       "      <th>residuals</th>\n",
       "    </tr>\n",
       "  </thead>\n",
       "  <tbody>\n",
       "    <tr>\n",
       "      <th>289989</th>\n",
       "      <td>0.268611</td>\n",
       "      <td>0.213867</td>\n",
       "      <td>0.054744</td>\n",
       "    </tr>\n",
       "    <tr>\n",
       "      <th>603671</th>\n",
       "      <td>0.343333</td>\n",
       "      <td>0.261719</td>\n",
       "      <td>0.081615</td>\n",
       "    </tr>\n",
       "    <tr>\n",
       "      <th>699746</th>\n",
       "      <td>0.606389</td>\n",
       "      <td>0.516602</td>\n",
       "      <td>0.089787</td>\n",
       "    </tr>\n",
       "    <tr>\n",
       "      <th>701247</th>\n",
       "      <td>0.181944</td>\n",
       "      <td>0.268555</td>\n",
       "      <td>-0.086610</td>\n",
       "    </tr>\n",
       "    <tr>\n",
       "      <th>610335</th>\n",
       "      <td>0.461944</td>\n",
       "      <td>0.351562</td>\n",
       "      <td>0.110382</td>\n",
       "    </tr>\n",
       "  </tbody>\n",
       "</table>\n",
       "</div>"
      ],
      "text/plain": [
       "        fitted_values  predicted_values  residuals\n",
       "289989       0.268611          0.213867   0.054744\n",
       "603671       0.343333          0.261719   0.081615\n",
       "699746       0.606389          0.516602   0.089787\n",
       "701247       0.181944          0.268555  -0.086610\n",
       "610335       0.461944          0.351562   0.110382"
      ]
     },
     "execution_count": 55,
     "metadata": {},
     "output_type": "execute_result"
    }
   ],
   "source": [
    "#calculating the residuals \n",
    "residuals = pd.DataFrame({\n",
    "    \"fitted_values\":test_y,\n",
    "    \"predicted_values\":test_predict\n",
    "})\n",
    "residuals[\"residuals\"]=residuals[\"fitted_values\"]-residuals[\"predicted_values\"]\n",
    "residuals.head()"
   ]
  },
  {
   "cell_type": "code",
   "execution_count": 56,
   "id": "cb806000",
   "metadata": {
    "scrolled": true
   },
   "outputs": [
    {
     "data": {
      "image/png": "[encoded data removed]",
      "text/plain": [
       "<Figure size 1500x900 with 1 Axes>"
      ]
     },
     "metadata": {},
     "output_type": "display_data"
    }
   ],
   "source": [
    "plt.figure(figsize=(10,6),dpi=150,facecolor=\"w\",edgecolor=\"b\")\n",
    "plt.hist(residuals.residuals,bins=100)\n",
    "plt.xlabel(\"error\")\n",
    "plt.ylabel(\"frequency\")\n",
    "plt.title(\"distribution of error terms\")\n",
    "plt.show()"
   ]
  },
  {
   "cell_type": "code",
   "execution_count": 57,
   "id": "dae886ee",
   "metadata": {},
   "outputs": [
    {
     "data": {
      "image/png": "[encoded data removed]",
      "text/plain": [
       "<Figure size 600x600 with 1 Axes>"
      ]
     },
     "metadata": {},
     "output_type": "display_data"
    }
   ],
   "source": [
    "# importing the QQ-plot from the from the statsmodels\n",
    "from statsmodels.graphics.gofplots import qqplot\n",
    "\n",
    "## Plotting the QQ plot\n",
    "fig, ax = plt.subplots(figsize=(5,5) , dpi = 120)\n",
    "qqplot(residuals.residuals, line = 's' , ax = ax)\n",
    "plt.xlabel('Ideal Scaled Quantiles')\n",
    "plt.ylabel('Residual Quantiles')\n",
    "plt.legend([\"Residual Quantiles\",\"Ideal Scaled Quantiles\"])\n",
    "plt.title('Distribution of Residual Errors')\n",
    "plt.show()"
   ]
  },
  {
   "cell_type": "code",
   "execution_count": 58,
   "id": "cc2b9b95",
   "metadata": {},
   "outputs": [
    {
     "data": {
      "text/plain": [
       "0.5868613774166032"
      ]
     },
     "execution_count": 58,
     "metadata": {},
     "output_type": "execute_result"
    }
   ],
   "source": [
    "#calculating the train score \n",
    "\n",
    "linear_train_score = lr.score(train_x,train_y)\n",
    "linear_train_score*100"
   ]
  },
  {
   "cell_type": "code",
   "execution_count": 59,
   "id": "e153fd33",
   "metadata": {},
   "outputs": [
    {
     "data": {
      "text/plain": [
       "0.719197085905432"
      ]
     },
     "execution_count": 59,
     "metadata": {},
     "output_type": "execute_result"
    }
   ],
   "source": [
    "#calculating the test score\n",
    "\n",
    "linear_test_score = lr.score(test_x,test_y)\n",
    "linear_test_score*100"
   ]
  },
  {
   "cell_type": "code",
   "execution_count": 60,
   "id": "f2af41ec",
   "metadata": {},
   "outputs": [
    {
     "name": "stdout",
     "output_type": "stream",
     "text": [
      "Stored 'linear_test_score' (float64)\n"
     ]
    }
   ],
   "source": [
    "#storing the value of test score which can be further used in other files for plotting the bar graph\n",
    "%store linear_test_score"
   ]
  },
  {
   "cell_type": "code",
   "execution_count": 61,
   "id": "e378d4e3",
   "metadata": {},
   "outputs": [
    {
     "name": "stdout",
     "output_type": "stream",
     "text": [
      "Stored 'linear_train_score' (float64)\n"
     ]
    }
   ],
   "source": [
    "#storing the value of train score which can be further used in other files for plotting the bar graph\n",
    "%store linear_train_score"
   ]
  },
  {
   "cell_type": "markdown",
   "id": "95fde0ff",
   "metadata": {},
   "source": [
    "# Conclusions\n",
    "\n",
    "1. The training and test RMSE has a huge difference as the training rmse is 0.8800947504220866 and testing rmse is 0.8585182572256731\n",
    "2. On computing the coefficients we observed that there are some negative values as well\n",
    "3. On plotting the qqplot we see that the residual quantile line doesn't fit over all ideal scaled quantiles\n",
    "4. The train score of linear model is very low  0.5868613774166032\n",
    "5. The test score of linear model is  very low 0.719197085905432"
   ]
  },
  {
   "cell_type": "code",
   "execution_count": 62,
   "id": "80451afe",
   "metadata": {},
   "outputs": [],
   "source": [
    "sample_df=custom_df"
   ]
  },
  {
   "cell_type": "code",
   "execution_count": 63,
   "id": "77dfbcb1",
   "metadata": {
    "scrolled": true
   },
   "outputs": [
    {
     "data": {
      "text/plain": [
       "(11,)"
      ]
     },
     "execution_count": 63,
     "metadata": {},
     "output_type": "execute_result"
    }
   ],
   "source": [
    "sample_df.dtypes.shape"
   ]
  },
  {
   "cell_type": "code",
   "execution_count": 64,
   "id": "a3f37457",
   "metadata": {},
   "outputs": [
    {
     "data": {
      "text/html": [
       "<div>\n",
       "<style scoped>\n",
       "    .dataframe tbody tr th:only-of-type {\n",
       "        vertical-align: middle;\n",
       "    }\n",
       "\n",
       "    .dataframe tbody tr th {\n",
       "        vertical-align: top;\n",
       "    }\n",
       "\n",
       "    .dataframe thead th {\n",
       "        text-align: right;\n",
       "    }\n",
       "</style>\n",
       "<table border=\"1\" class=\"dataframe\">\n",
       "  <thead>\n",
       "    <tr style=\"text-align: right;\">\n",
       "      <th></th>\n",
       "      <th>pickup_longitude</th>\n",
       "      <th>pickup_latitude</th>\n",
       "      <th>dropoff_longitude</th>\n",
       "      <th>dropoff_latitude</th>\n",
       "      <th>trip_duration_hour</th>\n",
       "      <th>passenger_count_1</th>\n",
       "      <th>passenger_count_2</th>\n",
       "      <th>passenger_count_3</th>\n",
       "      <th>passenger_count_4</th>\n",
       "      <th>passenger_count_5</th>\n",
       "      <th>passenger_count_6</th>\n",
       "    </tr>\n",
       "  </thead>\n",
       "  <tbody>\n",
       "    <tr>\n",
       "      <th>169719</th>\n",
       "      <td>-73.953377</td>\n",
       "      <td>40.785610</td>\n",
       "      <td>-73.960793</td>\n",
       "      <td>40.777550</td>\n",
       "      <td>0.082222</td>\n",
       "      <td>0</td>\n",
       "      <td>0</td>\n",
       "      <td>1</td>\n",
       "      <td>0</td>\n",
       "      <td>0</td>\n",
       "      <td>0</td>\n",
       "    </tr>\n",
       "    <tr>\n",
       "      <th>272637</th>\n",
       "      <td>-73.989151</td>\n",
       "      <td>40.769291</td>\n",
       "      <td>-73.966148</td>\n",
       "      <td>40.770828</td>\n",
       "      <td>0.285556</td>\n",
       "      <td>1</td>\n",
       "      <td>0</td>\n",
       "      <td>0</td>\n",
       "      <td>0</td>\n",
       "      <td>0</td>\n",
       "      <td>0</td>\n",
       "    </tr>\n",
       "    <tr>\n",
       "      <th>66172</th>\n",
       "      <td>-73.975731</td>\n",
       "      <td>40.744968</td>\n",
       "      <td>-73.995148</td>\n",
       "      <td>40.737518</td>\n",
       "      <td>0.086111</td>\n",
       "      <td>0</td>\n",
       "      <td>0</td>\n",
       "      <td>0</td>\n",
       "      <td>0</td>\n",
       "      <td>1</td>\n",
       "      <td>0</td>\n",
       "    </tr>\n",
       "    <tr>\n",
       "      <th>470213</th>\n",
       "      <td>-73.975845</td>\n",
       "      <td>40.683399</td>\n",
       "      <td>-73.870796</td>\n",
       "      <td>40.728256</td>\n",
       "      <td>0.328611</td>\n",
       "      <td>1</td>\n",
       "      <td>0</td>\n",
       "      <td>0</td>\n",
       "      <td>0</td>\n",
       "      <td>0</td>\n",
       "      <td>0</td>\n",
       "    </tr>\n",
       "    <tr>\n",
       "      <th>319715</th>\n",
       "      <td>-73.973320</td>\n",
       "      <td>40.754269</td>\n",
       "      <td>-74.004005</td>\n",
       "      <td>40.725674</td>\n",
       "      <td>0.317778</td>\n",
       "      <td>1</td>\n",
       "      <td>0</td>\n",
       "      <td>0</td>\n",
       "      <td>0</td>\n",
       "      <td>0</td>\n",
       "      <td>0</td>\n",
       "    </tr>\n",
       "  </tbody>\n",
       "</table>\n",
       "</div>"
      ],
      "text/plain": [
       "        pickup_longitude  pickup_latitude  dropoff_longitude  \\\n",
       "169719        -73.953377        40.785610         -73.960793   \n",
       "272637        -73.989151        40.769291         -73.966148   \n",
       "66172         -73.975731        40.744968         -73.995148   \n",
       "470213        -73.975845        40.683399         -73.870796   \n",
       "319715        -73.973320        40.754269         -74.004005   \n",
       "\n",
       "        dropoff_latitude  trip_duration_hour  passenger_count_1  \\\n",
       "169719         40.777550            0.082222                  0   \n",
       "272637         40.770828            0.285556                  1   \n",
       "66172          40.737518            0.086111                  0   \n",
       "470213         40.728256            0.328611                  1   \n",
       "319715         40.725674            0.317778                  1   \n",
       "\n",
       "        passenger_count_2  passenger_count_3  passenger_count_4  \\\n",
       "169719                  0                  1                  0   \n",
       "272637                  0                  0                  0   \n",
       "66172                   0                  0                  0   \n",
       "470213                  0                  0                  0   \n",
       "319715                  0                  0                  0   \n",
       "\n",
       "        passenger_count_5  passenger_count_6  \n",
       "169719                  0                  0  \n",
       "272637                  0                  0  \n",
       "66172                   1                  0  \n",
       "470213                  0                  0  \n",
       "319715                  0                  0  "
      ]
     },
     "execution_count": 64,
     "metadata": {},
     "output_type": "execute_result"
    }
   ],
   "source": [
    "df1 = pd.concat([sample_df, pd.get_dummies(sample_df[['passenger_count']].astype('str'))], axis=1)\n",
    "try:\n",
    "    df1.drop(['id','vendor_id','pickup_datetime','dropoff_datetime','store_and_fwd_flag','passenger_count'], axis=1, inplace=True)\n",
    "except KeyError:\n",
    "    pass\n",
    "\n",
    "df1.head()"
   ]
  },
  {
   "cell_type": "code",
   "execution_count": 65,
   "id": "362cd6c9",
   "metadata": {},
   "outputs": [],
   "source": [
    "x = df1.drop([\"trip_duration_hour\"],axis = 1)\n",
    "y = df1[\"trip_duration_hour\"]"
   ]
  },
  {
   "cell_type": "code",
   "execution_count": 66,
   "id": "b2d576d2",
   "metadata": {},
   "outputs": [
    {
     "data": {
      "text/plain": [
       "(100000,)"
      ]
     },
     "execution_count": 66,
     "metadata": {},
     "output_type": "execute_result"
    }
   ],
   "source": [
    "y.shape"
   ]
  },
  {
   "cell_type": "code",
   "execution_count": 67,
   "id": "41b0fd71",
   "metadata": {},
   "outputs": [],
   "source": [
    "from sklearn.model_selection import train_test_split\n",
    "train_x,test_x,train_y,test_y = train_test_split(x,y,random_state=56)"
   ]
  },
  {
   "cell_type": "markdown",
   "id": "1b5c848c",
   "metadata": {},
   "source": [
    "# 5.  Build a Decision tree model for the given dataset. Attempt to interpret the variable importance."
   ]
  },
  {
   "cell_type": "markdown",
   "id": "68823081",
   "metadata": {},
   "source": [
    "# Decision Tree model"
   ]
  },
  {
   "cell_type": "markdown",
   "id": "eedf2229",
   "metadata": {},
   "source": [
    "A decision tree is a flowchart-like structure in which each internal node represents a \"test\" on an attribute (e.g. whether a coin flip comes up heads or tails), each branch represents the outcome of the test, and each leaf node represents a class label (decision taken after computing all attributes)."
   ]
  },
  {
   "cell_type": "code",
   "execution_count": 68,
   "id": "b9fd7093",
   "metadata": {},
   "outputs": [
    {
     "data": {
      "text/plain": [
       "DecisionTreeRegressor()"
      ]
     },
     "execution_count": 68,
     "metadata": {},
     "output_type": "execute_result"
    }
   ],
   "source": [
    "from sklearn.tree import DecisionTreeRegressor as DecisionTreeRegressor\n",
    "from sklearn.metrics import mean_squared_error as mse\n",
    "regressor = DecisionTreeRegressor()\n",
    "regressor.fit(x, y)"
   ]
  },
  {
   "cell_type": "code",
   "execution_count": 69,
   "id": "25901ac2",
   "metadata": {},
   "outputs": [
    {
     "name": "stdout",
     "output_type": "stream",
     "text": [
      "training rmse  0.0005264938085606277\n"
     ]
    }
   ],
   "source": [
    "from math import sqrt\n",
    "train_predict = regressor.predict(train_x)\n",
    "k = sqrt(mse(train_predict,train_y))\n",
    "print(\"training rmse \",k)"
   ]
  },
  {
   "cell_type": "code",
   "execution_count": 70,
   "id": "07e7b85f",
   "metadata": {},
   "outputs": [
    {
     "name": "stdout",
     "output_type": "stream",
     "text": [
      "testing rmse  0.0008828025134636724\n"
     ]
    }
   ],
   "source": [
    "from math import sqrt\n",
    "test_predict = regressor.predict(test_x)\n",
    "k1 = sqrt(mse(test_predict,test_y))\n",
    "print(\"testing rmse \",k1)"
   ]
  },
  {
   "cell_type": "markdown",
   "id": "5a067ea9",
   "metadata": {},
   "source": [
    "# To interpret the variable importance."
   ]
  },
  {
   "cell_type": "code",
   "execution_count": 71,
   "id": "5199081b",
   "metadata": {
    "scrolled": true
   },
   "outputs": [
    {
     "data": {
      "text/plain": [
       "Index(['pickup_longitude', 'pickup_latitude', 'dropoff_longitude',\n",
       "       'dropoff_latitude', 'passenger_count_1', 'passenger_count_2',\n",
       "       'passenger_count_3', 'passenger_count_4', 'passenger_count_5',\n",
       "       'passenger_count_6'],\n",
       "      dtype='object')"
      ]
     },
     "execution_count": 71,
     "metadata": {},
     "output_type": "execute_result"
    }
   ],
   "source": [
    "x.columns"
   ]
  },
  {
   "cell_type": "code",
   "execution_count": 72,
   "id": "8cad1e7b",
   "metadata": {},
   "outputs": [
    {
     "name": "stdout",
     "output_type": "stream",
     "text": [
      "Defaulting to user installation because normal site-packages is not writeable\n",
      "Requirement already satisfied: xgboost in c:\\users\\ahmed\\appdata\\roaming\\python\\python39\\site-packages (1.7.1)\n",
      "Requirement already satisfied: scipy in c:\\programdata\\anaconda3\\lib\\site-packages (from xgboost) (1.9.1)\n",
      "Requirement already satisfied: numpy in c:\\programdata\\anaconda3\\lib\\site-packages (from xgboost) (1.21.5)\n",
      "Note: you may need to restart the kernel to use updated packages.\n"
     ]
    }
   ],
   "source": [
    "pip install xgboost"
   ]
  },
  {
   "cell_type": "code",
   "execution_count": 73,
   "id": "bba3e1ba",
   "metadata": {},
   "outputs": [
    {
     "data": {
      "image/png": "[encoded data removed]",
      "text/plain": [
       "<Figure size 640x480 with 1 Axes>"
      ]
     },
     "metadata": {},
     "output_type": "display_data"
    }
   ],
   "source": [
    "#Using XGBoost in order to interpret the variable importance\n",
    "from xgboost import XGBRegressor\n",
    "from xgboost import plot_importance\n",
    "import matplotlib.pyplot as plt\n",
    "model = XGBRegressor()\n",
    "model.fit(x,y)\n",
    "plot_importance(model)\n",
    "plt.show()"
   ]
  },
  {
   "cell_type": "markdown",
   "id": "c7474c89",
   "metadata": {},
   "source": [
    "From the above graph we can draw an insight that the varaible \"dropoff_latitude\" has more impact on the trip duration variable followed by \"pickup_longitude\" then \"pickup_latitude\""
   ]
  },
  {
   "cell_type": "code",
   "execution_count": 74,
   "id": "fbf83625",
   "metadata": {},
   "outputs": [
    {
     "data": {
      "text/plain": [
       "99.99996442282492"
      ]
     },
     "execution_count": 74,
     "metadata": {},
     "output_type": "execute_result"
    }
   ],
   "source": [
    "#calculating the train score of decision tree model\n",
    "decision_train_score = regressor.score(train_x,train_y)\n",
    "decision_train_score*100"
   ]
  },
  {
   "cell_type": "code",
   "execution_count": 75,
   "id": "ff47eabf",
   "metadata": {},
   "outputs": [
    {
     "data": {
      "text/plain": [
       "99.99989502319949"
      ]
     },
     "execution_count": 75,
     "metadata": {},
     "output_type": "execute_result"
    }
   ],
   "source": [
    "#calculating the test score of decision tree model\n",
    "decision_test_score = regressor.score(test_x,test_y)\n",
    "decision_test_score*100"
   ]
  },
  {
   "cell_type": "code",
   "execution_count": 76,
   "id": "762fbd4b",
   "metadata": {},
   "outputs": [
    {
     "name": "stdout",
     "output_type": "stream",
     "text": [
      "Stored 'decision_test_score' (float64)\n"
     ]
    }
   ],
   "source": [
    "#storing the test score to use it in other file\n",
    "%store decision_test_score"
   ]
  },
  {
   "cell_type": "code",
   "execution_count": 77,
   "id": "477265b3",
   "metadata": {},
   "outputs": [
    {
     "name": "stdout",
     "output_type": "stream",
     "text": [
      "Stored 'decision_train_score' (float64)\n"
     ]
    }
   ],
   "source": [
    "#storing the train score to use it in other file\n",
    "%store decision_train_score"
   ]
  },
  {
   "cell_type": "markdown",
   "id": "70834206",
   "metadata": {},
   "source": [
    "# Conclusions\n",
    "\n",
    "1.The training RMSE of decision model is 0.0005264938085606277. Where as the testing RMSE is 0.0008828025134636724. They are almost equal so its the best fit\n",
    "\n",
    "2.The train score and test score is 99.99 so we can consider that decision tree is the best model for predicting the trip duration variable.\n"
   ]
  },
  {
   "cell_type": "markdown",
   "id": "612d6aeb",
   "metadata": {},
   "source": [
    "# 6. Plot the following Bar plots:\n"
   ]
  },
  {
   "cell_type": "markdown",
   "id": "1439608f",
   "metadata": {},
   "source": [
    "## 0.train score of all the above models."
   ]
  },
  {
   "cell_type": "code",
   "execution_count": 87,
   "id": "8d693973",
   "metadata": {},
   "outputs": [
    {
     "data": {
      "text/plain": [
       "(0.9999996442282492, 0.005868613774166032, 0.22451293627095015)"
      ]
     },
     "execution_count": 87,
     "metadata": {},
     "output_type": "execute_result"
    }
   ],
   "source": [
    "decision_train_score,linear_train_score,knn_train_score"
   ]
  },
  {
   "cell_type": "code",
   "execution_count": 89,
   "id": "dd3cef34",
   "metadata": {},
   "outputs": [],
   "source": [
    "#assining the train score values in x,y\n",
    "x=[\"decision_train_score\",\"linear_train_score\",\"knn_train_score\"]\n",
    "y=[0.9999996442282492, 0.005868613774166032, 0.22451293627095015]"
   ]
  },
  {
   "cell_type": "markdown",
   "id": "94e9dcad",
   "metadata": {},
   "source": [
    "## 1. test (not validation!) score of all the above models.\n"
   ]
  },
  {
   "cell_type": "code",
   "execution_count": 90,
   "id": "ae261c58",
   "metadata": {},
   "outputs": [
    {
     "data": {
      "text/plain": [
       "(-0.16425004050105008, 0.00719197085905432, 0.9999989502319949)"
      ]
     },
     "execution_count": 90,
     "metadata": {},
     "output_type": "execute_result"
    }
   ],
   "source": [
    "knn_test_score, linear_test_score,decision_test_score"
   ]
  },
  {
   "cell_type": "markdown",
   "id": "a93e30f5",
   "metadata": {},
   "source": [
    "## 2. Attempt to explain the observations from the plots (optional)"
   ]
  },
  {
   "cell_type": "code",
   "execution_count": 92,
   "id": "c5c4fa6f",
   "metadata": {},
   "outputs": [
    {
     "data": {
      "image/png": "[encoded data removed]",
      "text/plain": [
       "<Figure size 640x480 with 1 Axes>"
      ]
     },
     "metadata": {},
     "output_type": "display_data"
    }
   ],
   "source": [
    "plt.figure(dpi=100)\n",
    "plt.bar(x,y)\n",
    "plt.xlabel(\"models\")\n",
    "plt.ylabel(\"train scores\")\n",
    "plt.show()"
   ]
  },
  {
   "cell_type": "code",
   "execution_count": 91,
   "id": "5741bfe1",
   "metadata": {},
   "outputs": [],
   "source": [
    "#assining the test score value in x1,y1\n",
    "x1=[\"knn_test_score\",\"linear_test_score\",\"decision_test_score\"]\n",
    "y1=[-0.16425004050105008,0.00719197085905432,0.9999989502319949]"
   ]
  },
  {
   "cell_type": "code",
   "execution_count": 93,
   "id": "69e17a42",
   "metadata": {},
   "outputs": [
    {
     "data": {
      "image/png": "[encoded data removed]",
      "text/plain": [
       "<Figure size 640x480 with 1 Axes>"
      ]
     },
     "metadata": {},
     "output_type": "display_data"
    }
   ],
   "source": [
    "plt.figure(dpi=100)\n",
    "plt.bar(x1,y1)\n",
    "plt.xlabel(\"models\")\n",
    "plt.ylabel(\"train scores\")\n",
    "plt.show()"
   ]
  },
  {
   "cell_type": "markdown",
   "id": "8af354d8",
   "metadata": {},
   "source": [
    "## from above graph we can see that the best model among K-Nearest neighbours, Linear Regression model and Decision Tree the best one is Decision Tree in train score."
   ]
  },
  {
   "cell_type": "markdown",
   "id": "6788ef3c",
   "metadata": {},
   "source": [
    "In this project we covered various aspects of the Machine learning development cycle. We observed that the data exploration and variable analysis is a very important aspect of the whole cycle and should be done for thorough understanding of the data. We also cleaned the data while exploring as there were some outliers which should be treated before feature engineering. Further we did feature engineering to filter and gather only the optimal features which are more significant and covered most of the variance in the dataset. Then finally we trained the models on the optimum featureset to get the results"
   ]
  }
 ],
 "metadata": {
  "kernelspec": {
   "display_name": "Python 3 (ipykernel)",
   "language": "python",
   "name": "python3"
  },
  "language_info": {
   "codemirror_mode": {
    "name": "ipython",
    "version": 3
   },
   "file_extension": ".py",
   "mimetype": "text/x-python",
   "name": "python",
   "nbconvert_exporter": "python",
   "pygments_lexer": "ipython3",
   "version": "3.9.13"
  }
 },
 "nbformat": 4,
 "nbformat_minor": 5
}
